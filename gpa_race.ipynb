{
 "cells": [
  {
   "cell_type": "code",
   "execution_count": 1,
   "id": "b6f0336a",
   "metadata": {},
   "outputs": [],
   "source": [
    "#general imports\n",
    "import warnings\n",
    "warnings.filterwarnings('ignore')\n",
    "import pandas as pd\n",
    "import numpy as np\n",
    "import sklearn\n",
    "import scipy.optimize\n",
    "from sklearn.model_selection import train_test_split\n",
    "from sklearn.linear_model import LogisticRegression\n",
    "from sklearn.ensemble import RandomForestClassifier\n",
    "from sklearn.tree import DecisionTreeClassifier\n",
    "from sklearn.metrics import accuracy_score\n",
    "from sklearn.svm import SVC \n",
    "import random\n",
    "from lightgbm import LGBMClassifier\n",
    "from sklearn.neighbors import KNeighborsClassifier\n",
    "\n",
    "#fmclp imports\n",
    "from fmclp import fmclp, cuae, synthetic_dataset,write_res,general_results_write, benefit, run_experiment"
   ]
  },
  {
   "cell_type": "code",
   "execution_count": 2,
   "id": "0cc4f513",
   "metadata": {},
   "outputs": [],
   "source": [
    "d = pd.read_csv('bar_pass_prediction.csv')"
   ]
  },
  {
   "cell_type": "code",
   "execution_count": 3,
   "id": "2f7e899a",
   "metadata": {},
   "outputs": [],
   "source": [
    "del d['ID']\n",
    "del d['race1']\n",
    "del d['race2']\n",
    "del d['sex']\n",
    "del d['bar']\n",
    "del d['dnn_bar_pass_prediction']\n",
    "del d['pass_bar']\n",
    "del d['indxgrp2']\n",
    "del d['gender']\n",
    "del d['grad']\n",
    "del d['Dropout']\n",
    "del d['fulltime']\n",
    "del d['lsat']\n",
    "del d['zfygpa']\n",
    "del d['ugpa']\n",
    "del d['zgpa']\n",
    "del d['other']\n",
    "del d['asian']\n",
    "del d['black']\n",
    "del d['hisp']"
   ]
  },
  {
   "cell_type": "code",
   "execution_count": 4,
   "id": "a4088066",
   "metadata": {},
   "outputs": [],
   "source": [
    "def grouper_race(x):\n",
    "    if x == 7:\n",
    "        return 1\n",
    "    else: \n",
    "        return 0\n",
    "d['race'] = d['race'].apply(grouper_race)\n",
    "def grouper_gpa(x):\n",
    "    if x>3.4:\n",
    "        return 2\n",
    "    elif x <3.1:\n",
    "        return 0\n",
    "    else:\n",
    "        return 1\n",
    "d['gpa'] = d['gpa'].apply(grouper_gpa)\n",
    "d = d.rename(columns = {'gpa':'target', 'race':'attr'})\n",
    "d = pd.get_dummies(d,drop_first = True)\n",
    "d = d.dropna(how = 'any')"
   ]
  },
  {
   "cell_type": "code",
   "execution_count": 5,
   "id": "f95dcfac-8e2e-4282-9502-46ea093185a8",
   "metadata": {},
   "outputs": [
    {
     "data": {
      "text/plain": [
       "Index(['decile1b', 'decile3', 'decile1', 'attr', 'cluster', 'DOB_yr',\n",
       "       'bar1_yr', 'bar2_yr', 'fam_inc', 'age', 'parttime', 'male',\n",
       "       'bar_passed', 'tier', 'index6040', 'target', 'bar1_P', 'bar2_P',\n",
       "       'indxgrp_b 400-460', 'indxgrp_c 460-520', 'indxgrp_d 520-580',\n",
       "       'indxgrp_e 580-640', 'indxgrp_f 640-700', 'indxgrp_g 700+'],\n",
       "      dtype='object')"
      ]
     },
     "execution_count": 5,
     "metadata": {},
     "output_type": "execute_result"
    }
   ],
   "source": [
    "d.columns"
   ]
  },
  {
   "cell_type": "code",
   "execution_count": 33,
   "id": "ca1594ee",
   "metadata": {},
   "outputs": [
    {
     "data": {
      "text/plain": [
       "0.8339533972978265"
      ]
     },
     "execution_count": 33,
     "metadata": {},
     "output_type": "execute_result"
    }
   ],
   "source": [
    "y = d.drop(['target'], axis=1) \n",
    "x = d['target']\n",
    "y_train,y_test,x_train,x_test = train_test_split(y,x)\n",
    "lg = LGBMClassifier()\n",
    "lg.fit(y_train, x_train)\n",
    "lg = lg.predict(y_test)\n",
    "accuracy_score(lg, x_test)"
   ]
  },
  {
   "cell_type": "code",
   "execution_count": 6,
   "id": "aa64f8aa",
   "metadata": {},
   "outputs": [
    {
     "name": "stdout",
     "output_type": "stream",
     "text": [
      "1\n",
      "2\n",
      "3\n",
      "4\n",
      "5\n",
      "6\n",
      "7\n",
      "8\n",
      "9\n",
      "10\n",
      "11\n",
      "12\n",
      "13\n",
      "14\n",
      "15\n",
      "16\n",
      "17\n",
      "18\n",
      "19\n",
      "20\n",
      "21\n",
      "22\n",
      "23\n",
      "24\n",
      "25\n",
      "26\n",
      "27\n",
      "28\n",
      "29\n",
      "30\n",
      "31\n",
      "32\n",
      "33\n",
      "34\n",
      "35\n",
      "36\n",
      "37\n",
      "38\n",
      "39\n",
      "40\n",
      "41\n",
      "42\n",
      "43\n",
      "44\n",
      "45\n",
      "46\n",
      "47\n",
      "48\n",
      "49\n",
      "50\n",
      "51\n",
      "52\n",
      "53\n",
      "54\n",
      "55\n",
      "56\n",
      "57\n",
      "58\n",
      "59\n",
      "60\n",
      "61\n",
      "62\n",
      "63\n",
      "64\n",
      "65\n",
      "66\n",
      "67\n",
      "68\n",
      "69\n",
      "70\n",
      "71\n",
      "72\n",
      "73\n",
      "74\n",
      "75\n",
      "76\n",
      "77\n",
      "78\n",
      "79\n",
      "80\n",
      "81\n",
      "82\n",
      "83\n",
      "84\n",
      "85\n",
      "86\n",
      "87\n",
      "88\n",
      "89\n",
      "90\n",
      "91\n",
      "92\n",
      "93\n",
      "94\n",
      "95\n",
      "96\n",
      "97\n",
      "98\n",
      "99\n",
      "100\n",
      "CPU times: user 6d 9h 22min 44s, sys: 43min 53s, total: 6d 10h 6min 38s\n",
      "Wall time: 6h 50min 33s\n"
     ]
    }
   ],
   "source": [
    "%%time\n",
    "experiment = run_experiment(dataset = d,\n",
    "                   number_experiments = 100,\n",
    "                   multiplier = 30,\n",
    "                   number_iterations = 20,\n",
    "                   interior_classifier = 'rf',\n",
    "                   folder = 'gpa_race',\n",
    "                   dataset_name='gpa_race',\n",
    "                   initial_classifier = LGBMClassifier())"
   ]
  },
  {
   "cell_type": "code",
   "execution_count": 7,
   "id": "ce792792-a826-4df3-83f0-538260d24339",
   "metadata": {},
   "outputs": [],
   "source": [
    "unfair_downgraded = np.array(\n",
    "[0.14404762, 0.13260341 ,0.13965087, 0.13459119 ,0.1391201 , 0.14303483,\n",
    " 0.15235792, 0.13620072 ,0.14002478, 0.14744352 ,0.13909774, 0.14371981,\n",
    " 0.14105793, 0.14069767 ,0.14572193, 0.15640394 ,0.14002478, 0.12291933,\n",
    " 0.13365735, 0.14465409 ,0.13365155, 0.16524909 ,0.13324709 ,0.14883149,\n",
    " 0.13488372, 0.1322208  ,0.14025974, 0.13487242 ,0.13365155 ,0.14787879,\n",
    " 0.15384615, 0.13452381 ,0.13882353, 0.12531328 ,0.14952153 ,0.12616822,\n",
    " 0.15769712, 0.12408759 ,0.13704994, 0.14285714, 0.13431013 ,0.15770171,\n",
    " 0.14585909, 0.14066194 ,0.13381995, 0.12742718, 0.14712919 ,0.13483146,\n",
    " 0.15384615, 0.15235792 ,0.15662651, 0.14355231, 0.12515337 ,0.13658537,\n",
    " 0.14459295, 0.15601966 ,0.15206813, 0.11904762, 0.13905683 ,0.13737624,\n",
    " 0.14233577, 0.13365155 ,0.15375447, 0.14775414, 0.14634146 ,0.11571255,\n",
    " 0.15834348, 0.15676359 ,0.14974619 ,0.1532567 , 0.14392991 ,0.15299878,\n",
    " 0.13513514, 0.15294118 ,0.13793103, 0.13171355, 0.13744076 ,0.13942308,\n",
    " 0.12718204, 0.13513514 ,0.14353499, 0.12515188, 0.12616822 ,0.13317479,\n",
    " 0.12864078, 0.14200477 ,0.13447433, 0.15324675, 0.12911084 ,0.13032887,\n",
    " 0.12899263, 0.1440678 , 0.14164649, 0.16525935, 0.14302885 ,0.14046392,\n",
    " 0.14634146, 0.12799043, 0.15696203, 0.15834348])"
   ]
  },
  {
   "cell_type": "code",
   "execution_count": 8,
   "id": "23bf1c0b-5ee2-44b8-bbd4-46ef0646d7be",
   "metadata": {},
   "outputs": [],
   "source": [
    "fair_downgraded= np.array(\n",
    "[0.11190476, 0.11435523 ,0.12718204, 0.10691824 ,0.10820452, 0.10199005,\n",
    " 0.13784764, 0.12664277 ,0.14002478, 0.10701546 ,0.12155388, 0.12077295,\n",
    " 0.12468514, 0.11511628 ,0.12032086, 0.11453202 ,0.12019827, 0.09859155,\n",
    " 0.10935601, 0.11572327 ,0.1097852 , 0.13730255 ,0.10866753, 0.11685117,\n",
    " 0.10930233, 0.10012837 ,0.11818182, 0.12150668 ,0.1097852 , 0.12121212,\n",
    " 0.1001221 , 0.11428571 ,0.10823529, 0.10651629 ,0.12440191, 0.10163551,\n",
    " 0.13516896, 0.09975669 ,0.1068525 , 0.11164466 ,0.11355311, 0.12591687,\n",
    " 0.10506799, 0.12411348 ,0.10948905, 0.10558252 ,0.11842105, 0.10986267,\n",
    " 0.1001221 , 0.11729141 ,0.13614458, 0.11800487 ,0.10674847, 0.12073171,\n",
    " 0.11300122, 0.13390663 ,0.1216545 , 0.08452381 ,0.11245466, 0.12252475,\n",
    " 0.12652068 ,0.11575179 ,0.11561383, 0.13475177 ,0.10801394, 0.0998782,\n",
    " 0.11449452, 0.12010114 ,0.13959391, 0.1302682 , 0.12140175, 0.12117503,\n",
    " 0.11547912, 0.13764706 ,0.11206897, 0.11381074, 0.11492891, 0.12379808,\n",
    " 0.09850374, 0.11547912 ,0.11506524, 0.10206561 ,0.10163551, 0.09036861,\n",
    " 0.10558252, 0.11455847 ,0.10880196, 0.11038961, 0.1181486 , 0.11693057,\n",
    " 0.11793612, 0.12590799, 0.11501211, 0.14234017, 0.11778846, 0.12113402,\n",
    " 0.12195122, 0.1076555,  0.12405063, 0.11449452])"
   ]
  },
  {
   "cell_type": "code",
   "execution_count": 10,
   "id": "74cf8c60-57a7-43b2-9217-5f6852dcdbf5",
   "metadata": {},
   "outputs": [
    {
     "data": {
      "text/plain": [
       "(0.1410011096, 0.11574491699999997)"
      ]
     },
     "execution_count": 10,
     "metadata": {},
     "output_type": "execute_result"
    }
   ],
   "source": [
    "unfair_downgraded.mean(),fair_downgraded.mean()"
   ]
  }
 ],
 "metadata": {
  "kernelspec": {
   "display_name": "grisha",
   "language": "python",
   "name": "grisha"
  },
  "language_info": {
   "codemirror_mode": {
    "name": "ipython",
    "version": 3
   },
   "file_extension": ".py",
   "mimetype": "text/x-python",
   "name": "python",
   "nbconvert_exporter": "python",
   "pygments_lexer": "ipython3",
   "version": "3.9.12"
  }
 },
 "nbformat": 4,
 "nbformat_minor": 5
}
