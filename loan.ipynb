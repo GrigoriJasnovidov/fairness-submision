{
 "cells": [
  {
   "cell_type": "code",
   "execution_count": 1,
   "id": "b6f0336a",
   "metadata": {},
   "outputs": [],
   "source": [
    "#general imports\n",
    "import warnings\n",
    "warnings.filterwarnings('ignore')\n",
    "import pandas as pd\n",
    "import numpy as np\n",
    "import sklearn\n",
    "import scipy.optimize\n",
    "from sklearn.model_selection import train_test_split\n",
    "from sklearn.linear_model import LogisticRegression\n",
    "from sklearn.ensemble import RandomForestClassifier\n",
    "from sklearn.tree import DecisionTreeClassifier\n",
    "from sklearn.metrics import accuracy_score\n",
    "from sklearn.svm import SVC \n",
    "import random\n",
    "from lightgbm import LGBMClassifier\n",
    "from sklearn.neighbors import KNeighborsClassifier\n",
    "\n",
    "#fmclp imports\n",
    "from fmclp import fmclp, cuae, synthetic_dataset, benefit, write_res,general_results_write,run_experiment"
   ]
  },
  {
   "cell_type": "code",
   "execution_count": 2,
   "id": "6f323ee0",
   "metadata": {},
   "outputs": [],
   "source": [
    "loan = pd.read_csv('loan_cleaned.csv')\n",
    "loan = loan[loan['loan_status'] != 'Current']\n",
    "\n",
    "#create risk groups 0 - good, 1 - bad, 2  - dubious\n",
    "def loan_grouper(x):\n",
    "    if x == 'Fully Paid':\n",
    "        z = 0\n",
    "    elif x == 'Charged Off':\n",
    "        z = 1\n",
    "    elif x == 'Late (31-120 days)':\n",
    "        z = 2\n",
    "    elif x == 'Issued':\n",
    "        z = 2\n",
    "    elif x=='In Grace Period':\n",
    "        z= 2\n",
    "    elif x == 'Late (16-30 days)':\n",
    "        z =2\n",
    "    elif x == 'Does not meet the credit policy. Status:Fully Paid':\n",
    "        z=2\n",
    "    elif x == 'Default':\n",
    "        z = 1\n",
    "    elif x == 'Does not meet the credit policy. Status:Charged Off':\n",
    "        z = 1\n",
    "    return z\n",
    "loan['target'] = loan['loan_status'].apply(loan_grouper)\n",
    "del loan['loan_status']\n",
    "del loan['zip_code']\n",
    "del loan['issue_d']\n",
    "del loan['addr_state']\n",
    "\n",
    "loan = loan[['loan_amnt', 'term', 'int_rate', 'verification_status','initial_list_status','target', 'sub_grade',\n",
    "                'home_ownership', 'purpose', 'dti', 'revol_bal','total_pymnt', 'total_rec_prncp']]"
   ]
  },
  {
   "cell_type": "code",
   "execution_count": 3,
   "id": "33c6ffd3-7f4d-40b3-9be6-71e8c0c6b6c3",
   "metadata": {},
   "outputs": [],
   "source": [
    "loan = pd.get_dummies(loan, drop_first = True)\n",
    "loan = loan.rename(columns = {'initial_list_status_w': 'attr'})"
   ]
  },
  {
   "cell_type": "code",
   "execution_count": 4,
   "id": "ca1594ee",
   "metadata": {},
   "outputs": [
    {
     "data": {
      "text/plain": [
       "0.9380952380952381"
      ]
     },
     "execution_count": 4,
     "metadata": {},
     "output_type": "execute_result"
    }
   ],
   "source": [
    "y = loan.drop('target', axis=1)\n",
    "x = loan['target']\n",
    "y_train,y_test,x_train,x_test = train_test_split(y,x)\n",
    "\n",
    "lg = LGBMClassifier()\n",
    "lg.fit(y_train, x_train)\n",
    "lg = lg.predict(y_test)\n",
    "accuracy_score(lg, x_test)"
   ]
  },
  {
   "cell_type": "code",
   "execution_count": 4,
   "id": "8d1635f7-b957-46b6-81c0-f3d55f9fe461",
   "metadata": {},
   "outputs": [
    {
     "name": "stdout",
     "output_type": "stream",
     "text": [
      "1\n",
      "2\n",
      "3\n",
      "4\n",
      "5\n",
      "6\n",
      "7\n",
      "8\n",
      "9\n",
      "10\n",
      "11\n",
      "12\n",
      "13\n",
      "14\n",
      "15\n",
      "16\n",
      "17\n",
      "18\n",
      "19\n",
      "20\n",
      "21\n",
      "22\n",
      "23\n",
      "24\n",
      "25\n",
      "26\n",
      "27\n",
      "28\n",
      "29\n",
      "30\n",
      "31\n",
      "32\n",
      "33\n",
      "34\n",
      "35\n",
      "36\n",
      "37\n",
      "38\n",
      "39\n",
      "40\n",
      "41\n",
      "42\n",
      "43\n",
      "44\n",
      "45\n",
      "46\n",
      "47\n",
      "48\n",
      "49\n",
      "50\n",
      "51\n",
      "52\n",
      "53\n",
      "54\n",
      "55\n",
      "56\n",
      "57\n",
      "58\n",
      "59\n",
      "60\n",
      "61\n",
      "62\n",
      "63\n",
      "64\n",
      "65\n",
      "66\n",
      "68\n",
      "69\n",
      "70\n",
      "71\n",
      "72\n",
      "73\n",
      "74\n",
      "75\n",
      "76\n",
      "77\n",
      "78\n",
      "79\n",
      "80\n",
      "81\n",
      "82\n",
      "83\n",
      "84\n",
      "85\n",
      "86\n",
      "87\n",
      "88\n",
      "89\n",
      "90\n",
      "91\n",
      "92\n",
      "93\n",
      "94\n",
      "95\n",
      "96\n",
      "97\n",
      "98\n",
      "99\n",
      "100\n"
     ]
    }
   ],
   "source": [
    "experiment = run_experiment(dataset = loan,\n",
    "                   number_experiments = 100,\n",
    "                   multiplier = 20,\n",
    "                   number_iterations = 20,\n",
    "                   interior_classifier = 'rf',\n",
    "                   folder = 'loan',\n",
    "                   dataset_name='loan',\n",
    "                   initial_classifier = LGBMClassifier())"
   ]
  },
  {
   "cell_type": "code",
   "execution_count": 6,
   "id": "3f1f322c-1519-4ce0-90d6-efdcb1cad800",
   "metadata": {},
   "outputs": [],
   "source": [
    "fair_downgraded= np.array( \n",
    "[0.04046596, 0.0364651  ,0.03541157, 0.03668359 ,0.04001139, 0.03563529,\n",
    " 0.03835216, 0.03723847 ,0.03402066, 0.03587653 ,0.03960957, 0.0380548,\n",
    " 0.03886676, 0.03947823 ,0.0382751 , 0.03841065 ,0.03902686, 0.03784917,\n",
    " 0.03668067 ,0.03728489 ,0.03911147, 0.03905537 ,0.04066326, 0.03883475,\n",
    " 0.03911737, 0.03725411 ,0.03540526, 0.03644185, 0.03511794, 0.03920295,\n",
    " 0.0378252  ,0.03585965 ,0.03562419, 0.03600996, 0.03817524, 0.03591071,\n",
    " 0.03515498 ,0.03823905 ,0.03966132, 0.03577565, 0.03761201, 0.03494514,\n",
    " 0.03884597 ,0.03843889, 0.03899055, 0.03823506, 0.03910365, 0.0400073,\n",
    " 0.03892677 ,0.03600996, 0.03853951, 0.03668288, 0.03893989, 0.03925184,\n",
    " 0.03844905 ,0.0359811 , 0.03735952, 0.03814118, 0.03752845, 0.03784453,\n",
    " 0.03622909 ,0.03785898, 0.03978403, 0.03959072, 0.03706946, 0.03814975,\n",
    " 0.03768334 ,0.03892677, 0.03906774, 0.03584841, 0.03841065, 0.03769894,\n",
    " 0.03867806 ,0.03974021, 0.03504054, 0.03903527, 0.03657275, 0.03822987,\n",
    " 0.03820416 ,0.03715378, 0.04007008, 0.03206926, 0.03960957, 0.0418633,\n",
    " 0.03762798 ,0.03626365, 0.04047454, 0.03503727, 0.03974021, 0.03390552,\n",
    " 0.03662915 ,0.03806895, 0.03688458, 0.0418633,  0.03923556, 0.03789392,\n",
    " 0.03878405 ,0.03971383, 0.03781882, 0.03979028])"
   ]
  },
  {
   "cell_type": "code",
   "execution_count": 9,
   "id": "1f92b1ea-5efc-458a-8987-80a3b24f0ad3",
   "metadata": {},
   "outputs": [],
   "source": [
    "unfair_downgraded=np.array(\n",
    "[0.04950818, 0.04989854 ,0.04993888, 0.05012133, 0.05074615 ,0.04819693,\n",
    " 0.05015438, 0.05010451 ,0.049272   ,0.04960655, 0.05052448 ,0.05018704,\n",
    " 0.05006977, 0.04998273 ,0.0490204  ,0.05003359, 0.05015712 ,0.04963759,\n",
    " 0.04961127, 0.0490216  ,0.05071508 ,0.04984885, 0.04911619 ,0.04908648,\n",
    " 0.05030246, 0.04990874 ,0.04937191 ,0.04979304, 0.04901921 ,0.04975447,\n",
    " 0.04971545, 0.04906789 ,0.05143229 ,0.04878246, 0.0498495  ,0.04901326,\n",
    " 0.04898978, 0.04938196 ,0.05136931 ,0.04862134, 0.04752809 ,0.04863876,\n",
    " 0.0502808 , 0.04901821 ,0.04970179 ,0.04964669, 0.05012506 ,0.0507746,\n",
    " 0.04982546, 0.04878246 ,0.04930463 ,0.04917499, 0.0502575  ,0.05039718,\n",
    " 0.04944609, 0.04932763 ,0.04997469 ,0.04906471, 0.04955705 ,0.04912081,\n",
    " 0.0489407 , 0.04965445 ,0.04987212 ,0.05047108, 0.05011807 ,0.04916898,\n",
    " 0.05033925, 0.04982546 ,0.04950072 ,0.04991576, 0.05003359 ,0.05125018,\n",
    " 0.04902596, 0.05104526 ,0.0495582  ,0.04971625, 0.04933163 ,0.04997262,\n",
    " 0.04905301, 0.04966039 ,0.04954267 ,0.04786002, 0.05052448 ,0.05008137,\n",
    " 0.05011657, 0.04912943 ,0.04983517 ,0.04986228, 0.05104526 ,0.04884178,\n",
    " 0.04928506, 0.0508736  ,0.04901046 ,0.05008137, 0.0496727  ,0.05153084,\n",
    " 0.04953586, 0.05001829 ,0.0500092  ,0.05291822])"
   ]
  },
  {
   "cell_type": "code",
   "execution_count": 10,
   "id": "8c7f26f4-42fb-4996-9846-de1c412562ca",
   "metadata": {},
   "outputs": [
    {
     "data": {
      "text/plain": [
       "(0.0378428729, 0.049751082199999984)"
      ]
     },
     "execution_count": 10,
     "metadata": {},
     "output_type": "execute_result"
    }
   ],
   "source": [
    "fair_downgraded.mean(), unfair_downgraded.mean()"
   ]
  }
 ],
 "metadata": {
  "kernelspec": {
   "display_name": "grisha",
   "language": "python",
   "name": "grisha"
  },
  "language_info": {
   "codemirror_mode": {
    "name": "ipython",
    "version": 3
   },
   "file_extension": ".py",
   "mimetype": "text/x-python",
   "name": "python",
   "nbconvert_exporter": "python",
   "pygments_lexer": "ipython3",
   "version": "3.9.12"
  }
 },
 "nbformat": 4,
 "nbformat_minor": 5
}
