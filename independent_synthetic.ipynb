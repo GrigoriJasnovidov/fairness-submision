{
 "cells": [
  {
   "cell_type": "code",
   "execution_count": 11,
   "id": "b6f0336a",
   "metadata": {},
   "outputs": [],
   "source": [
    "#general imports\n",
    "\n",
    "import warnings\n",
    "warnings.filterwarnings('ignore')\n",
    "import pandas as pd\n",
    "import numpy as np\n",
    "import sklearn\n",
    "import scipy.optimize\n",
    "from sklearn.model_selection import train_test_split\n",
    "from sklearn.linear_model import LogisticRegression\n",
    "from sklearn.ensemble import RandomForestClassifier\n",
    "from sklearn.tree import DecisionTreeClassifier\n",
    "from sklearn.metrics import accuracy_score\n",
    "from sklearn.svm import SVC \n",
    "import random\n",
    "from lightgbm import LGBMClassifier\n",
    "from sklearn.neighbors import KNeighborsClassifier\n",
    "\n",
    "#FMCLP imports\n",
    "\n",
    "from final_fmclp_26_09_2022 import fmclp, synthetic_dataset, cuae"
   ]
  },
  {
   "cell_type": "code",
   "execution_count": 13,
   "id": "4861a4ac",
   "metadata": {},
   "outputs": [
    {
     "name": "stdout",
     "output_type": "stream",
     "text": [
      "1\n",
      "2\n",
      "3\n",
      "4\n",
      "5\n",
      "6\n",
      "7\n",
      "8\n",
      "9\n",
      "10\n",
      "11\n",
      "12\n",
      "13\n",
      "14\n",
      "15\n",
      "16\n",
      "17\n",
      "18\n",
      "19\n",
      "20\n",
      "21\n",
      "22\n",
      "23\n",
      "24\n",
      "25\n",
      "26\n",
      "27\n",
      "28\n",
      "29\n",
      "30\n",
      "31\n",
      "32\n",
      "33\n",
      "34\n",
      "35\n",
      "36\n",
      "37\n",
      "38\n",
      "39\n",
      "40\n",
      "41\n",
      "42\n",
      "43\n",
      "44\n",
      "45\n",
      "46\n",
      "47\n",
      "48\n",
      "49\n",
      "50\n",
      "51\n",
      "52\n",
      "53\n",
      "54\n",
      "55\n",
      "56\n",
      "57\n",
      "58\n",
      "59\n",
      "60\n",
      "61\n",
      "62\n",
      "63\n",
      "64\n",
      "65\n",
      "66\n",
      "67\n",
      "68\n",
      "69\n",
      "70\n",
      "71\n",
      "72\n",
      "73\n",
      "74\n",
      "75\n",
      "76\n",
      "77\n",
      "78\n",
      "79\n",
      "80\n",
      "81\n",
      "82\n",
      "83\n",
      "84\n",
      "85\n",
      "86\n",
      "87\n",
      "88\n",
      "89\n",
      "90\n",
      "91\n",
      "92\n",
      "93\n",
      "94\n",
      "95\n",
      "96\n",
      "97\n",
      "98\n",
      "99\n",
      "100\n",
      "CPU times: user 42min 12s, sys: 5min 58s, total: 48min 10s\n",
      "Wall time: 29min 35s\n"
     ]
    }
   ],
   "source": [
    "%%time\n",
    "#we run experiments 100 times\n",
    "\n",
    "fair_diff = []\n",
    "fair_ratio = []\n",
    "fair_variation = []\n",
    "fair_accuracy = []\n",
    "unfair_diff = []\n",
    "unfair_ratio = []\n",
    "unfair_variation = []\n",
    "unfair_accuracy = []\n",
    "for i in range(100):\n",
    "    d = synthetic_dataset(200,influence = False)\n",
    "    cl = LGBMClassifier()\n",
    "    y = d.drop('target',axis=1)\n",
    "    x = d['target']\n",
    "    y_train,y_test,x_train,x_test = train_test_split(y,x)\n",
    "    cl.fit(y_train,x_train)\n",
    "\n",
    "    res = fmclp(dataset = synthetic_dataset(50000, influence = False), \n",
    "               estimator = cl, \n",
    "               number_iterations = 10, \n",
    "               prefit = True, \n",
    "               interior_classifier = 'rf',\n",
    "               verbose = False, \n",
    "               multiplier= 20, \n",
    "               random_state = None)\n",
    "    unfair_diff.append(res['fairness_of_initial_classifier']['diff'])\n",
    "    unfair_ratio.append(res['fairness_of_initial_classifier']['ratio'])\n",
    "    unfair_variation.append(res['fairness_of_initial_classifier']['variation'])\n",
    "    unfair_accuracy.append(res['accuracy_of_initial_classifier'])\n",
    "    \n",
    "    fair_diff.append(res['fairness_of_fair_classifier']['diff'])\n",
    "    fair_ratio.append(res['fairness_of_fair_classifier']['ratio'])\n",
    "    fair_variation.append(res['fairness_of_fair_classifier']['variation'])\n",
    "    fair_accuracy.append(res['accuracy_of_fair_classifier'])\n",
    "                            \n",
    "        \n",
    "    name = f\"synthetic_independent_trials/synthetic_independent_trial_№{i+1}.txt\"\n",
    "    file = open(name,'w')\n",
    "    file.write(f\"\"\"unfair_total_diff: {res['fairness_of_initial_classifier']['diff']}\n",
    "unfair_ratio: {res['fairness_of_initial_classifier']['ratio']}\n",
    "unfair_variation: {res['fairness_of_initial_classifier']['variation']}\n",
    "unfair_accuracy: {res['accuracy_of_initial_classifier']}\n",
    "fair_diff: {res['fairness_of_fair_classifier']['diff']}\n",
    "fair_ratio: {res['fairness_of_fair_classifier']['ratio']}\n",
    "fair_variation: {res['fairness_of_fair_classifier']['variation']}\n",
    "fair_accuracy: {res['accuracy_of_fair_classifier']}\n",
    "interior_classifier: rf \n",
    "multiplier: 20 \n",
    "    \"\"\")\n",
    "    file.close()       \n",
    "        \n",
    "    res['fairness_of_fair_classifier']['df'].to_csv(f\"synthetic_independent_trials/synthetic_independent_trial_№{i+1} cuae-metric-fair.csv\")\n",
    "    res['fairness_of_initial_classifier']['df'].to_csv(f\"synthetic_independent_trials/synthetic_independent_trial_№{i+1} cuae-metric-unfair.csv\")\n",
    "    print(i+1)\n",
    "\n",
    "fair_diff = np.array(fair_diff)\n",
    "fair_ratio = np.array(fair_ratio)\n",
    "fair_variation = np.array(fair_variation)                         \n",
    "fair_accuracy = np.array(fair_accuracy)\n",
    "unfair_diff = np.array(unfair_diff)\n",
    "unfair_ratio = np.array(unfair_ratio)\n",
    "unfair_variation = np.array(unfair_variation)\n",
    "unfair_accuracy = np.array(unfair_accuracy)\n",
    "                            \n",
    "                            \n",
    "                            \n",
    "file = open('synthetic_independent_trials/synthetic_independent.txt','w')\n",
    "file.write(\n",
    "f\"\"\"dataset for initial classifier training: 200 \n",
    "classifier: LGBMClassifier()\n",
    "number_iterations: 10\n",
    "multiplier:20\n",
    "interior_classifier: rf\n",
    "fair_diff: {fair_diff}\n",
    "fair_ratio: {fair_ratio}\n",
    "fair_variation: {fair_variation}\n",
    "fair_accuracy: {fair_accuracy}\n",
    "unfair_diff: {unfair_diff}\n",
    "unfair_ratio: {unfair_ratio}\n",
    "unfair_variation: {unfair_variation}\n",
    "unfair_accuracy: {unfair_accuracy}\"\"\")\n",
    "file.close()"
   ]
  },
  {
   "cell_type": "code",
   "execution_count": 18,
   "id": "ce149676-7d62-470d-b2aa-ac3a96d6d4d1",
   "metadata": {},
   "outputs": [
    {
     "data": {
      "text/plain": [
       "(0.04779203302700849, 0.04545846759141258)"
      ]
     },
     "execution_count": 18,
     "metadata": {},
     "output_type": "execute_result"
    }
   ],
   "source": [
    "fair_diff.mean(),unfair_diff.mean()"
   ]
  },
  {
   "cell_type": "code",
   "execution_count": 19,
   "id": "06f0a11b-03cf-4f89-a67f-b684e4192b0f",
   "metadata": {},
   "outputs": [
    {
     "data": {
      "text/plain": [
       "(1.0653070204760475, 1.0609648006046322)"
      ]
     },
     "execution_count": 19,
     "metadata": {},
     "output_type": "execute_result"
    }
   ],
   "source": [
    "fair_ratio.mean(),unfair_ratio.mean()"
   ]
  },
  {
   "cell_type": "code",
   "execution_count": 20,
   "id": "d2beb573-78d6-49ba-9522-e4e8960385e1",
   "metadata": {},
   "outputs": [
    {
     "data": {
      "text/plain": [
       "(0.17606039995957645, 0.17108630958678128)"
      ]
     },
     "execution_count": 20,
     "metadata": {},
     "output_type": "execute_result"
    }
   ],
   "source": [
    "fair_variation.mean(),unfair_variation.mean()"
   ]
  },
  {
   "cell_type": "code",
   "execution_count": 21,
   "id": "73a3357c",
   "metadata": {},
   "outputs": [
    {
     "data": {
      "text/plain": [
       "(0.8353136000000001, 0.8361776000000002)"
      ]
     },
     "execution_count": 21,
     "metadata": {},
     "output_type": "execute_result"
    }
   ],
   "source": [
    "fair_accuracy.mean(), unfair_accuracy.mean()"
   ]
  }
 ],
 "metadata": {
  "kernelspec": {
   "display_name": "Python 3 (ipykernel)",
   "language": "python",
   "name": "python3"
  },
  "language_info": {
   "codemirror_mode": {
    "name": "ipython",
    "version": 3
   },
   "file_extension": ".py",
   "mimetype": "text/x-python",
   "name": "python",
   "nbconvert_exporter": "python",
   "pygments_lexer": "ipython3",
   "version": "3.8.8"
  }
 },
 "nbformat": 4,
 "nbformat_minor": 5
}
