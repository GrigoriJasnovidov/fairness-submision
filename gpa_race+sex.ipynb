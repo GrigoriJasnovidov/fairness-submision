{
 "cells": [
  {
   "cell_type": "code",
   "execution_count": 1,
   "id": "b6f0336a",
   "metadata": {},
   "outputs": [],
   "source": [
    "#general imports\n",
    "import warnings\n",
    "warnings.filterwarnings('ignore')\n",
    "import pandas as pd\n",
    "import numpy as np\n",
    "import sklearn\n",
    "import scipy.optimize\n",
    "from sklearn.model_selection import train_test_split\n",
    "from sklearn.linear_model import LogisticRegression\n",
    "from sklearn.ensemble import RandomForestClassifier\n",
    "from sklearn.tree import DecisionTreeClassifier\n",
    "from sklearn.metrics import accuracy_score\n",
    "from sklearn.svm import SVC \n",
    "import random\n",
    "from lightgbm import LGBMClassifier\n",
    "from sklearn.neighbors import KNeighborsClassifier\n",
    "\n",
    "#fmclp imports\n",
    "from fmclp import fmclp, cuae, synthetic_dataset, general_results_write, write_res, benefit, run_experiment"
   ]
  },
  {
   "cell_type": "code",
   "execution_count": 2,
   "id": "0cc4f513",
   "metadata": {},
   "outputs": [],
   "source": [
    "d = pd.read_csv('bar_pass_prediction.csv')"
   ]
  },
  {
   "cell_type": "code",
   "execution_count": 3,
   "id": "2f7e899a",
   "metadata": {},
   "outputs": [],
   "source": [
    "del d['ID']\n",
    "del d['race1']\n",
    "del d['race2']\n",
    "del d['sex']\n",
    "del d['bar']\n",
    "del d['dnn_bar_pass_prediction']\n",
    "del d['pass_bar']\n",
    "del d['indxgrp2']\n",
    "del d['gender']\n",
    "del d['grad']\n",
    "del d['Dropout']\n",
    "del d['fulltime']\n",
    "del d['lsat']\n",
    "del d['zfygpa']\n",
    "del d['ugpa']\n",
    "del d['zgpa']\n",
    "del d['other']\n",
    "del d['asian']\n",
    "del d['black']\n",
    "del d['hisp']"
   ]
  },
  {
   "cell_type": "code",
   "execution_count": 4,
   "id": "a4088066",
   "metadata": {},
   "outputs": [],
   "source": [
    "def grouper_race(x):\n",
    "    if x == 7:\n",
    "        return 1\n",
    "    else: \n",
    "        return 0\n",
    "d['race'] = d['race'].apply(grouper_race)\n",
    "def grouper_gpa(x):\n",
    "    if x>3.4:\n",
    "        return 2\n",
    "    elif x <3.1:\n",
    "        return 0\n",
    "    else:\n",
    "        return 1\n",
    "d = d.dropna(how = 'any')\n",
    "d['gpa'] = d['gpa'].apply(grouper_gpa)\n",
    "d['sex_race']= d[['male','race']].apply(sum,axis=1).apply(lambda x: min(1,x))"
   ]
  },
  {
   "cell_type": "code",
   "execution_count": 5,
   "id": "012073bc-1143-47db-b9d4-ab9c0bbaf2c4",
   "metadata": {},
   "outputs": [],
   "source": [
    "del d['male']\n",
    "del d['race']"
   ]
  },
  {
   "cell_type": "code",
   "execution_count": 6,
   "id": "caa70ef7-2076-4115-8bf5-64bc6c40777a",
   "metadata": {},
   "outputs": [],
   "source": [
    "del d['bar1']\n",
    "del d['bar1_yr']\n",
    "del d['bar2']\n",
    "del d['bar2_yr']"
   ]
  },
  {
   "cell_type": "code",
   "execution_count": 7,
   "id": "9b6398d2-7b55-4d2a-8d1c-28afe13b70b3",
   "metadata": {},
   "outputs": [
    {
     "data": {
      "text/plain": [
       "Index(['decile1b', 'decile3', 'decile1', 'cluster', 'DOB_yr', 'fam_inc', 'age',\n",
       "       'parttime', 'bar_passed', 'tier', 'index6040', 'indxgrp', 'gpa',\n",
       "       'sex_race'],\n",
       "      dtype='object')"
      ]
     },
     "execution_count": 7,
     "metadata": {},
     "output_type": "execute_result"
    }
   ],
   "source": [
    "d.columns"
   ]
  },
  {
   "cell_type": "code",
   "execution_count": 8,
   "id": "cddd59e1-2d9d-4a29-bab5-72d588823f07",
   "metadata": {},
   "outputs": [],
   "source": [
    "d = d.rename(columns = {'gpa':'target', 'sex_race':'attr'})\n",
    "d = pd.get_dummies(d,drop_first = True)"
   ]
  },
  {
   "cell_type": "code",
   "execution_count": 9,
   "id": "ca1594ee",
   "metadata": {},
   "outputs": [
    {
     "data": {
      "text/plain": [
       "0.852359506559624"
      ]
     },
     "execution_count": 9,
     "metadata": {},
     "output_type": "execute_result"
    }
   ],
   "source": [
    "y = d.drop(['target'], axis=1) \n",
    "x = d['target']\n",
    "y_train,y_test,x_train,x_test = train_test_split(y,x)\n",
    "lg = LGBMClassifier()\n",
    "lg.fit(y_train, x_train)\n",
    "lg = lg.predict(y_test)\n",
    "accuracy_score(lg, x_test)"
   ]
  },
  {
   "cell_type": "code",
   "execution_count": 10,
   "id": "798b3691-8282-4b6c-8514-7f02de062c90",
   "metadata": {},
   "outputs": [
    {
     "data": {
      "text/plain": [
       "True     19389\n",
       "False     1038\n",
       "Name: bar_passed, dtype: int64"
      ]
     },
     "execution_count": 10,
     "metadata": {},
     "output_type": "execute_result"
    }
   ],
   "source": [
    "d.bar_passed.value_counts()"
   ]
  },
  {
   "cell_type": "code",
   "execution_count": 11,
   "id": "57d0fbca-eb08-4580-a9b3-8939789629f2",
   "metadata": {},
   "outputs": [
    {
     "data": {
      "text/html": [
       "<div>\n",
       "<style scoped>\n",
       "    .dataframe tbody tr th:only-of-type {\n",
       "        vertical-align: middle;\n",
       "    }\n",
       "\n",
       "    .dataframe tbody tr th {\n",
       "        vertical-align: top;\n",
       "    }\n",
       "\n",
       "    .dataframe thead th {\n",
       "        text-align: right;\n",
       "    }\n",
       "</style>\n",
       "<table border=\"1\" class=\"dataframe\">\n",
       "  <thead>\n",
       "    <tr style=\"text-align: right;\">\n",
       "      <th></th>\n",
       "      <th>decile1b</th>\n",
       "      <th>decile3</th>\n",
       "      <th>decile1</th>\n",
       "      <th>cluster</th>\n",
       "      <th>DOB_yr</th>\n",
       "      <th>fam_inc</th>\n",
       "      <th>age</th>\n",
       "      <th>parttime</th>\n",
       "      <th>bar_passed</th>\n",
       "      <th>tier</th>\n",
       "      <th>index6040</th>\n",
       "      <th>target</th>\n",
       "      <th>attr</th>\n",
       "      <th>indxgrp_b 400-460</th>\n",
       "      <th>indxgrp_c 460-520</th>\n",
       "      <th>indxgrp_d 520-580</th>\n",
       "      <th>indxgrp_e 580-640</th>\n",
       "      <th>indxgrp_f 640-700</th>\n",
       "      <th>indxgrp_g 700+</th>\n",
       "    </tr>\n",
       "  </thead>\n",
       "  <tbody>\n",
       "    <tr>\n",
       "      <th>0</th>\n",
       "      <td>10.0</td>\n",
       "      <td>10.0</td>\n",
       "      <td>10.0</td>\n",
       "      <td>1.0</td>\n",
       "      <td>69.0</td>\n",
       "      <td>5.0</td>\n",
       "      <td>-62.0</td>\n",
       "      <td>0.0</td>\n",
       "      <td>True</td>\n",
       "      <td>4.0</td>\n",
       "      <td>886.842082</td>\n",
       "      <td>2</td>\n",
       "      <td>1.0</td>\n",
       "      <td>0</td>\n",
       "      <td>0</td>\n",
       "      <td>0</td>\n",
       "      <td>0</td>\n",
       "      <td>0</td>\n",
       "      <td>1</td>\n",
       "    </tr>\n",
       "    <tr>\n",
       "      <th>1</th>\n",
       "      <td>5.0</td>\n",
       "      <td>4.0</td>\n",
       "      <td>5.0</td>\n",
       "      <td>2.0</td>\n",
       "      <td>69.0</td>\n",
       "      <td>4.0</td>\n",
       "      <td>-62.0</td>\n",
       "      <td>0.0</td>\n",
       "      <td>True</td>\n",
       "      <td>2.0</td>\n",
       "      <td>649.999987</td>\n",
       "      <td>2</td>\n",
       "      <td>1.0</td>\n",
       "      <td>0</td>\n",
       "      <td>0</td>\n",
       "      <td>0</td>\n",
       "      <td>0</td>\n",
       "      <td>1</td>\n",
       "      <td>0</td>\n",
       "    </tr>\n",
       "    <tr>\n",
       "      <th>2</th>\n",
       "      <td>3.0</td>\n",
       "      <td>2.0</td>\n",
       "      <td>3.0</td>\n",
       "      <td>3.0</td>\n",
       "      <td>65.0</td>\n",
       "      <td>1.0</td>\n",
       "      <td>-58.0</td>\n",
       "      <td>0.0</td>\n",
       "      <td>True</td>\n",
       "      <td>3.0</td>\n",
       "      <td>760.526298</td>\n",
       "      <td>2</td>\n",
       "      <td>1.0</td>\n",
       "      <td>0</td>\n",
       "      <td>0</td>\n",
       "      <td>0</td>\n",
       "      <td>0</td>\n",
       "      <td>0</td>\n",
       "      <td>1</td>\n",
       "    </tr>\n",
       "    <tr>\n",
       "      <th>3</th>\n",
       "      <td>7.0</td>\n",
       "      <td>4.0</td>\n",
       "      <td>7.0</td>\n",
       "      <td>3.0</td>\n",
       "      <td>58.0</td>\n",
       "      <td>4.0</td>\n",
       "      <td>-51.0</td>\n",
       "      <td>0.0</td>\n",
       "      <td>True</td>\n",
       "      <td>3.0</td>\n",
       "      <td>807.894717</td>\n",
       "      <td>2</td>\n",
       "      <td>1.0</td>\n",
       "      <td>0</td>\n",
       "      <td>0</td>\n",
       "      <td>0</td>\n",
       "      <td>0</td>\n",
       "      <td>0</td>\n",
       "      <td>1</td>\n",
       "    </tr>\n",
       "    <tr>\n",
       "      <th>4</th>\n",
       "      <td>9.0</td>\n",
       "      <td>8.0</td>\n",
       "      <td>9.0</td>\n",
       "      <td>4.0</td>\n",
       "      <td>68.0</td>\n",
       "      <td>4.0</td>\n",
       "      <td>-61.0</td>\n",
       "      <td>0.0</td>\n",
       "      <td>True</td>\n",
       "      <td>5.0</td>\n",
       "      <td>949.999974</td>\n",
       "      <td>2</td>\n",
       "      <td>1.0</td>\n",
       "      <td>0</td>\n",
       "      <td>0</td>\n",
       "      <td>0</td>\n",
       "      <td>0</td>\n",
       "      <td>0</td>\n",
       "      <td>1</td>\n",
       "    </tr>\n",
       "  </tbody>\n",
       "</table>\n",
       "</div>"
      ],
      "text/plain": [
       "   decile1b  decile3  decile1  cluster  DOB_yr  fam_inc   age  parttime  \\\n",
       "0      10.0     10.0     10.0      1.0    69.0      5.0 -62.0       0.0   \n",
       "1       5.0      4.0      5.0      2.0    69.0      4.0 -62.0       0.0   \n",
       "2       3.0      2.0      3.0      3.0    65.0      1.0 -58.0       0.0   \n",
       "3       7.0      4.0      7.0      3.0    58.0      4.0 -51.0       0.0   \n",
       "4       9.0      8.0      9.0      4.0    68.0      4.0 -61.0       0.0   \n",
       "\n",
       "   bar_passed  tier   index6040  target  attr  indxgrp_b 400-460  \\\n",
       "0        True   4.0  886.842082       2   1.0                  0   \n",
       "1        True   2.0  649.999987       2   1.0                  0   \n",
       "2        True   3.0  760.526298       2   1.0                  0   \n",
       "3        True   3.0  807.894717       2   1.0                  0   \n",
       "4        True   5.0  949.999974       2   1.0                  0   \n",
       "\n",
       "   indxgrp_c 460-520  indxgrp_d 520-580  indxgrp_e 580-640  indxgrp_f 640-700  \\\n",
       "0                  0                  0                  0                  0   \n",
       "1                  0                  0                  0                  1   \n",
       "2                  0                  0                  0                  0   \n",
       "3                  0                  0                  0                  0   \n",
       "4                  0                  0                  0                  0   \n",
       "\n",
       "   indxgrp_g 700+  \n",
       "0               1  \n",
       "1               0  \n",
       "2               1  \n",
       "3               1  \n",
       "4               1  "
      ]
     },
     "execution_count": 11,
     "metadata": {},
     "output_type": "execute_result"
    }
   ],
   "source": [
    "d.head()"
   ]
  },
  {
   "cell_type": "code",
   "execution_count": 12,
   "id": "b27c31b6-ac93-4115-b14a-d23442065d4a",
   "metadata": {},
   "outputs": [
    {
     "data": {
      "text/plain": [
       "Index(['decile1b', 'decile3', 'decile1', 'cluster', 'DOB_yr', 'fam_inc', 'age',\n",
       "       'parttime', 'bar_passed', 'tier', 'index6040', 'target', 'attr',\n",
       "       'indxgrp_b 400-460', 'indxgrp_c 460-520', 'indxgrp_d 520-580',\n",
       "       'indxgrp_e 580-640', 'indxgrp_f 640-700', 'indxgrp_g 700+'],\n",
       "      dtype='object')"
      ]
     },
     "execution_count": 12,
     "metadata": {},
     "output_type": "execute_result"
    }
   ],
   "source": [
    "d.columns"
   ]
  },
  {
   "cell_type": "code",
   "execution_count": 13,
   "id": "aa64f8aa",
   "metadata": {},
   "outputs": [
    {
     "name": "stdout",
     "output_type": "stream",
     "text": [
      "1\n",
      "2\n",
      "3\n",
      "4\n",
      "5\n",
      "6\n",
      "7\n",
      "8\n",
      "9\n",
      "10\n",
      "11\n",
      "12\n",
      "13\n",
      "14\n",
      "15\n",
      "16\n",
      "17\n",
      "18\n",
      "19\n",
      "20\n",
      "21\n",
      "22\n",
      "23\n",
      "24\n",
      "25\n",
      "26\n",
      "27\n",
      "28\n",
      "29\n",
      "30\n",
      "31\n",
      "32\n",
      "33\n",
      "34\n",
      "35\n",
      "36\n",
      "37\n",
      "38\n",
      "39\n",
      "40\n",
      "41\n",
      "42\n",
      "43\n",
      "44\n",
      "45\n",
      "46\n",
      "47\n",
      "48\n",
      "49\n",
      "50\n",
      "51\n",
      "52\n",
      "53\n",
      "54\n",
      "55\n",
      "56\n",
      "57\n",
      "58\n",
      "59\n",
      "60\n",
      "61\n",
      "62\n",
      "63\n",
      "64\n",
      "65\n",
      "66\n",
      "67\n",
      "68\n",
      "69\n",
      "70\n",
      "71\n",
      "72\n",
      "73\n",
      "74\n",
      "75\n",
      "76\n",
      "77\n",
      "78\n",
      "79\n",
      "80\n",
      "81\n",
      "82\n",
      "83\n",
      "84\n",
      "85\n",
      "86\n",
      "87\n",
      "88\n",
      "89\n",
      "90\n",
      "91\n",
      "92\n",
      "93\n",
      "94\n",
      "95\n",
      "96\n",
      "97\n",
      "98\n",
      "99\n",
      "100\n",
      "CPU times: user 4d 1h 40min 31s, sys: 55min 6s, total: 4d 2h 35min 38s\n",
      "Wall time: 6h 13min 54s\n"
     ]
    }
   ],
   "source": [
    "%%time\n",
    "experiment = run_experiment(dataset = d,\n",
    "                   number_experiments = 100,\n",
    "                   multiplier = 50,\n",
    "                   number_iterations = 20,\n",
    "                   interior_classifier = 'rf',\n",
    "                   folder = 'gpa_race_sex',\n",
    "                   dataset_name='gpa_race_sex',\n",
    "                   initial_classifier = LGBMClassifier())      "
   ]
  },
  {
   "cell_type": "code",
   "execution_count": 15,
   "id": "14368eba-4343-43dd-a474-75507ef5839c",
   "metadata": {},
   "outputs": [],
   "source": [
    "unfair_downgraded= np.array( \n",
    "[0.15909091, 0.16438356, 0.16589862, 0.1465721  ,0.17974684 ,0.17431193,\n",
    " 0.17067308, 0.12826603, 0.1956044 , 0.17078652 ,0.16901408 ,0.16933638,\n",
    " 0.18324607, 0.16861827, 0.20813397, 0.16289593 ,0.15492958 ,0.17633929,\n",
    " 0.16099773, 0.16312057, 0.16262136, 0.1691974 , 0.16820276 ,0.17865429,\n",
    " 0.14189189, 0.16513761, 0.18043478, 0.1954023 , 0.18552036 ,0.18390805,\n",
    " 0.17050691, 0.15207373, 0.15144231, 0.16853933, 0.16326531 ,0.16743119,\n",
    " 0.13488372, 0.16350711, 0.18508997, 0.1728972 , 0.17449664 ,0.14320988,\n",
    " 0.14489311, 0.1714922 , 0.16284404, 0.15165877, 0.16216216 ,0.165,\n",
    " 0.12826603, 0.13800905, 0.18387909, 0.14420804, 0.15827338 ,0.16121495,\n",
    " 0.1511335 , 0.16546763, 0.1655481 , 0.14380531, 0.16326531 ,0.18552036,\n",
    " 0.14864865, 0.16461916, 0.18289786, 0.17857143, 0.15492958 ,0.16209476,\n",
    " 0.18925831, 0.14180929, 0.16099773, 0.1937799 , 0.16129032 ,0.18981481,\n",
    " 0.15058824, 0.14573991, 0.16063348, 0.15124153, 0.16256158 ,0.171875,\n",
    " 0.16475973, 0.17974684, 0.16083916, 0.12910798, 0.15873016 ,0.16627078,\n",
    " 0.18475751, 0.16589862 ,0.18544601, 0.1862069 , 0.16336634 ,0.15456674,\n",
    " 0.15550756, 0.17283951, 0.15046296, 0.15346535, 0.17002237 ,0.16099773,\n",
    " 0.14797136, 0.15502183, 0.16083916, 0.20043573])\n",
    "\n",
    "fair_downgraded=np.array(\n",
    "[0.13131313, 0.13013699, 0.12903226 ,0.11111111, 0.15189873, 0.12844037,\n",
    " 0.14903846,0.10926366 ,0.14945055 ,0.14606742 ,0.14788732 ,0.13501144,\n",
    " 0.12303665, 0.1264637 , 0.17703349, 0.13574661 ,0.12676056 ,0.13839286,\n",
    " 0.13378685, 0.14184397, 0.12621359, 0.14533623 ,0.14285714 ,0.16241299,\n",
    " 0.12837838, 0.14220183, 0.14782609, 0.17011494 ,0.14705882 ,0.13793103,\n",
    " 0.12442396, 0.11751152, 0.11057692, 0.14157303 ,0.11564626 ,0.13990826,\n",
    " 0.10697674, 0.11848341, 0.13881748, 0.16588785 ,0.15212528 ,0.11604938,\n",
    " 0.09976247, 0.11358575, 0.13302752 ,0.14218009, 0.13267813 ,0.15,\n",
    " 0.10926366, 0.11312217, 0.13602015 ,0.09456265 ,0.12709832 ,0.14719626,\n",
    " 0.12342569, 0.13189448, 0.15212528, 0.12168142, 0.12244898 ,0.14705882,\n",
    " 0.11486486, 0.13759214, 0.15914489, 0.13095238, 0.12676056 ,0.11970075,\n",
    " 0.15601023, 0.10513447, 0.12471655, 0.15789474, 0.1359447  ,0.16203704,\n",
    " 0.10823529, 0.12331839, 0.12217195 ,0.11060948, 0.12807882 ,0.140625,\n",
    " 0.1395881 , 0.15189873, 0.15151515, 0.11032864 ,0.13378685 ,0.15914489,\n",
    " 0.15473441, 0.14516129, 0.1314554 , 0.16321839, 0.11633663 ,0.12880562,\n",
    " 0.13822894, 0.15802469, 0.12731481, 0.1039604 , 0.1409396  ,0.138322,\n",
    " 0.11694511, 0.13973799, 0.10955711, 0.14814815])"
   ]
  },
  {
   "cell_type": "code",
   "execution_count": 16,
   "id": "8eb20787-901d-41f3-b2fc-44c0d1f09bb7",
   "metadata": {},
   "outputs": [
    {
     "data": {
      "text/plain": [
       "(0.1338810424, 0.16495532859999998)"
      ]
     },
     "execution_count": 16,
     "metadata": {},
     "output_type": "execute_result"
    }
   ],
   "source": [
    "fair_downgraded.mean(),unfair_downgraded.mean()"
   ]
  }
 ],
 "metadata": {
  "kernelspec": {
   "display_name": "grisha",
   "language": "python",
   "name": "grisha"
  },
  "language_info": {
   "codemirror_mode": {
    "name": "ipython",
    "version": 3
   },
   "file_extension": ".py",
   "mimetype": "text/x-python",
   "name": "python",
   "nbconvert_exporter": "python",
   "pygments_lexer": "ipython3",
   "version": "3.9.12"
  }
 },
 "nbformat": 4,
 "nbformat_minor": 5
}
